{
 "cells": [
  {
   "cell_type": "code",
   "execution_count": 1,
   "metadata": {},
   "outputs": [],
   "source": [
    "import re\n",
    "import datetime\n",
    "import numpy as np\n",
    "import pandas as pd\n",
    "import matplotlib.pyplot as plt\n",
    "import seaborn as sns\n",
    "import japanize_matplotlib\n",
    "from bs4 import BeautifulSoup\n",
    "from scipy import stats\n",
    "import os"
   ]
  },
  {
   "cell_type": "code",
   "execution_count": 2,
   "metadata": {},
   "outputs": [],
   "source": [
    "def split_time(num_list,mi,ma):\n",
    "    li = 0\n",
    "    for i in num_list:\n",
    "        if mi <= i < ma:\n",
    "            li += 1\n",
    "        else:\n",
    "            pass\n",
    "    return li"
   ]
  },
  {
   "cell_type": "code",
   "execution_count": 3,
   "metadata": {},
   "outputs": [],
   "source": [
    "from statistics import mean, median,variance,stdev\n",
    "\n",
    "def stat(time):\n",
    "    m = mean(time)\n",
    "    media = median(time)\n",
    "    varianc = variance(time)\n",
    "    stde = stdev(time)\n",
    "    print('平均: {0:.2f}'.format(m))\n",
    "    print('中央値: {0:.2f}'.format(media))\n",
    "    print('分散: {0:.2f}'.format(varianc))\n",
    "    print('標準偏差: {0:.2f}'.format(stde))"
   ]
  },
  {
   "cell_type": "code",
   "execution_count": 4,
   "metadata": {},
   "outputs": [],
   "source": [
    "def draw_hist(x, **kws):\n",
    "    plt.hist(x[~np.isnan(x)])\n",
    "\n",
    "def corr_func(x, y, **kws):\n",
    "    mask = ~np.logical_or(np.isnan(x), np.isnan(y))\n",
    "    x, y = x[mask], y[mask]\n",
    "    r, _ = stats.pearsonr(x, y)\n",
    "    ax = plt.gca()\n",
    "    ax.annotate(\"r = {:.3f}\".format(r),\n",
    "               xy=(.2, .5), \n",
    "               xycoords=ax.transAxes,\n",
    "               size=16)\n",
    "\n",
    "def pairplot(df):\n",
    "    g = sns.PairGrid(df, height=1.6, dropna=False)\n",
    "    g.map_diag(draw_hist)\n",
    "    g.map_upper(sns.regplot, scatter_kws={\"s\": 8}, line_kws={\"color\":  \"r\"})\n",
    "    g.map_lower(corr_func)"
   ]
  },
  {
   "cell_type": "code",
   "execution_count": 6,
   "metadata": {},
   "outputs": [],
   "source": [
    "def make_graph(li,item,title):\n",
    "    Li = get_info_all(li,item)\n",
    "    di = dict(k)\n",
    "    di = dict(sorted(di.items(), key=lambda x:x[1]))\n",
    "    k = list(di.keys())\n",
    "    v = list(di.values())\n",
    "    plt.xticks(rotation=\"vertical\")\n",
    "    plt.title(title)\n",
    "    league = k.index(\"リーグ平均\")\n",
    "    tsukuba = k.index(\"筑波大学\")\n",
    "    if league > tsukuba:\n",
    "        k_tsu = k[:tsukuba]\n",
    "        v_tsu = v[:tsukuba]\n",
    "        k_cen = k[tsukuba+1:league]\n",
    "        v_cen = v[tsukuba+1:league]\n",
    "        k_fin = k[league+1:]\n",
    "        v_fin = v[league+1:]\n",
    "        if len(k) == (league+1):\n",
    "            plt.bar(k_tsu,v_tsu,color=\"w\",edgecolor='black', linewidth=1,align=\"center\")\n",
    "            plt.bar(k[tsukuba],v[tsukuba],color=\"deepskyblue\",edgecolor='black', linewidth=1,align=\"center\")\n",
    "            plt.bar(k_cen,v_cen,color=\"w\",edgecolor='black', linewidth=1,align=\"center\")\n",
    "            plt.bar(k[league],v[league],color=\"lightgray\",edgecolor='black', linewidth=1,align=\"center\")\n",
    "        else:\n",
    "            plt.bar(k_tsu,v_tsu,color=\"w\",edgecolor='black', linewidth=1,align=\"center\")\n",
    "            plt.bar(k[tsukuba],v[tsukuba],color=\"deepskyblue\",edgecolor='black', linewidth=1,align=\"center\")\n",
    "            plt.bar(k_cen,v_cen,color=\"w\",edgecolor='black', linewidth=1,align=\"center\")\n",
    "            plt.bar(k[league],v[league],color=\"lightgray\",edgecolor='black', linewidth=1,align=\"center\")\n",
    "            plt.bar(k_fin,v_fin,color=\"w\",edgecolor='black', linewidth=1,align=\"center\")\n",
    "    else:\n",
    "        k_le = k[:league]\n",
    "        v_le = v[:league]\n",
    "        k_cen = k[league+1:tsukuba]\n",
    "        v_cen = v[league+1:tsukuba]\n",
    "        k_fin = k[tsukuba+1:]\n",
    "        v_fin = v[tsukuba+1:]\n",
    "        if len(k) == (tsukuba+1):\n",
    "            plt.bar(k_le,v_le,color=\"w\",edgecolor='black', linewidth=1,align=\"center\")\n",
    "            plt.bar(k[league],v[league],color=\"lightgray\",edgecolor='black', linewidth=1,align=\"center\")\n",
    "            plt.bar(k_cen,v_cen,color=\"w\",edgecolor='black', linewidth=1,align=\"center\")\n",
    "            plt.bar(k[tsukuba],v[tsukuba],color=\"deepskyblue\",edgecolor='black', linewidth=1,align=\"center\")\n",
    "        else:\n",
    "            plt.bar(k_le,v_le,color=\"w\",edgecolor='black', linewidth=1,align=\"center\")\n",
    "            plt.bar(k[league],v[league],color=\"lightgray\",edgecolor='black', linewidth=1,align=\"center\")\n",
    "            plt.bar(k_cen,v_cen,color=\"w\",edgecolor='black', linewidth=1,align=\"center\")\n",
    "            plt.bar(k[tsukuba],v[tsukuba],color=\"deepskyblue\",edgecolor='black', linewidth=1,align=\"center\")\n",
    "            plt.bar(k_fin,v_fin,color=\"w\",edgecolor='black', linewidth=1,align=\"center\")\n",
    "    for x, y in zip(k, v):\n",
    "        plt.text(x, y, y, ha='center', va='bottom',size=8)\n",
    "    plt.subplots_adjust(left=0.125, right=0.9, bottom=0.28, top=0.9)\n",
    "    plt.savefig(\"/Users/nashimotokento/Documents/2019シーズン/Graph/{}.jpg\".format(title),dpi=500)"
   ]
  },
  {
   "cell_type": "code",
   "execution_count": null,
   "metadata": {},
   "outputs": [],
   "source": []
  }
 ],
 "metadata": {
  "kernelspec": {
   "display_name": "Python 3",
   "language": "python",
   "name": "python3"
  },
  "language_info": {
   "codemirror_mode": {
    "name": "ipython",
    "version": 3
   },
   "file_extension": ".py",
   "mimetype": "text/x-python",
   "name": "python",
   "nbconvert_exporter": "python",
   "pygments_lexer": "ipython3",
   "version": "3.7.5"
  }
 },
 "nbformat": 4,
 "nbformat_minor": 4
}
